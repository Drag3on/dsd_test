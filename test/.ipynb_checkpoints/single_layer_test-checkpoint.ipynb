{
 "cells": [
  {
   "cell_type": "markdown",
   "metadata": {},
   "source": [
    "# DSD-2023 Project (CIFAR-10)\n",
    "---\n",
    "## Layerwise Inference Check\n",
    "- This is a python script to help you check if your RTL impelementation for each layer is correct\n",
    "\n",
    "## Usage\n",
    "- Run ```Board connection```, ```Setting the VDMA```, ```Save parameters```\n",
    "- Run the layers that you want to experiment in ```Inference```\n",
    "- Example : To test Convolution 1 + ReLU, run the below two cells\n",
    "  - Cell 1\n",
    "  ```\n",
    "  ###################################################################\n",
    "  #        Convolution 1 + ReLU\n",
    "  ###################################################################\n",
    "  # Convolution\n",
    "  # - in:       (n, 3, 32, 32)\n",
    "  # - out:     (n, 32, 28, 28)\n",
    "  # - weight:    (32, 3, 3, 3)\n",
    "  # - bias:               (32)\n",
    "  # ReLU\n",
    "  # - in:      (n. 32. 32. 32)\n",
    "  # - out:     (n. 32. 32. 32)\n",
    "  ###################################################################\n",
    "  I = {'IN_CH': 3, 'OUT_CH': 32, 'FLEN': 32}\n",
    "  F = {'BASE_ADDR': 0x0000_0000, 'STRIDE_SIZE': 3*32*32, 'HSIZE': 3*32*32, 'VSIZE': 1}\n",
    "  W = {'BASE_ADDR': 0x0200_0000, 'STRIDE_SIZE': 3*32*9, 'HSIZE': 3*32*9, 'VSIZE': 1}\n",
    "  B = {'BASE_ADDR': 0x0210_0000, 'STRIDE_SIZE': 32, 'HSIZE': 32, 'VSIZE': 1}\n",
    "  R = {'BASE_ADDR': 0x0600_0000, 'STRIDE_SIZE': 32*32*32, 'HSIZE': 32*32*32, 'VSIZE': 1}\n",
    "  SU.su_conv_control(I, F, W, B, R, VDMA1_BASE_ADDR, CONV_BASE_ADDR)\n",
    "  ```\n",
    "\n",
    "  - Cell 2\n",
    "  ```\n",
    "  SU.check_result(\"./data/new_cifar10_random_data/conv1_relu_out_2s.txt\", 0x0600_0000)\n",
    "  ```"
   ]
  },
  {
   "cell_type": "code",
   "execution_count": 1,
   "metadata": {},
   "outputs": [],
   "source": [
    "from utils.scale_uart import *\n",
    "from utils.board import *\n",
    "import time\n",
    "import time"
   ]
  },
  {
   "cell_type": "markdown",
   "metadata": {},
   "source": [
    "## Board connection"
   ]
  },
  {
   "cell_type": "code",
   "execution_count": 2,
   "metadata": {},
   "outputs": [
    {
     "name": "stdout",
     "output_type": "stream",
     "text": [
      "Current OS: Windows\n",
      "['COM4']\n",
      "COM4 port connected!\n"
     ]
    }
   ],
   "source": [
    "port_list = get_port_list()\n",
    "SU = get_scale_uart(port_list)"
   ]
  },
  {
   "cell_type": "markdown",
   "metadata": {},
   "source": [
    "## Setting the VDMA"
   ]
  },
  {
   "cell_type": "code",
   "execution_count": 3,
   "metadata": {},
   "outputs": [],
   "source": [
    "## DO NOT CHANGE \n",
    "## IT IS VDMA AND EACH MODULE'S BASE ADDRESS FOR CONTROL APB + AXI\n",
    "##### PARAMETER INFORMATION\n",
    "VDMA0_BASE_ADDR= 0x0c00_0000\n",
    "VDMA1_BASE_ADDR= 0x0c10_0000\n",
    "VDMA2_BASE_ADDR= 0x0c20_0000\n",
    "\n",
    "FC_BASE_ADDR   = 0x0d00_0000\n",
    "CONV_BASE_ADDR = 0x0d10_0000\n",
    "POOL_BASE_ADDR = 0x0d20_0000\n",
    "\n",
    "### FIXED FOR OUR NETWORK\n",
    "OP_SIZE                        = 4\n",
    "ADDR_SIZE                      = 28\n",
    "DATA_SIZE                      = 32"
   ]
  },
  {
   "cell_type": "markdown",
   "metadata": {},
   "source": [
    "## Save parameters "
   ]
  },
  {
   "cell_type": "code",
   "execution_count": null,
   "metadata": {},
   "outputs": [],
   "source": [
    "print(\"conv1 parameter load\")\n",
    "start = time.time()\n",
    "SU.su_set_conv_w({'BASE_ADDR': 0x0200_0000}, \"./data/cifar10_network_quan_param/cifar10_conv1_weight_quan.npy\")\n",
    "SU.su_set_conv_b({'BASE_ADDR': 0x0210_0000}, \"./data/cifar10_network_quan_param/cifar10_conv1_bias_quan.npy\")\n",
    "print(\"conv1 set done\")\n",
    "print(\"\\tTotal time: {:.2f} sec\".format(time.time() - start))"
   ]
  },
  {
   "cell_type": "code",
   "execution_count": null,
   "metadata": {},
   "outputs": [],
   "source": [
    "print(\"conv2 parameter load\")\n",
    "start = time.time()\n",
    "SU.su_set_conv_w({'BASE_ADDR': 0x0220_0000}, \"./data/cifar10_network_quan_param/cifar10_conv2_weight_quan.npy\")\n",
    "SU.su_set_conv_b({'BASE_ADDR': 0x0270_0000}, \"./data/cifar10_network_quan_param/cifar10_conv2_bias_quan.npy\")\n",
    "print(\"conv2 set done\")\n",
    "print(\"\\tTotal time: {:.2f} sec\".format(time.time() - start))"
   ]
  },
  {
   "cell_type": "code",
   "execution_count": null,
   "metadata": {},
   "outputs": [],
   "source": [
    "print(\"conv3 parameter load\")\n",
    "start = time.time()\n",
    "SU.su_set_conv_w({'BASE_ADDR': 0x0280_0000}, \"./data/cifar10_network_quan_param/cifar10_conv3_weight_quan.npy\")\n",
    "SU.su_set_conv_b({'BASE_ADDR': 0x02C0_0000}, \"./data/cifar10_network_quan_param/cifar10_conv3_bias_quan.npy\")\n",
    "print(\"conv3 set done\")\n",
    "print(\"\\tTotal time: {:.2f} sec\".format(time.time() - start))"
   ]
  },
  {
   "cell_type": "code",
   "execution_count": null,
   "metadata": {},
   "outputs": [],
   "source": [
    "print(\"conv4 parameter load\")\n",
    "start = time.time()\n",
    "SU.su_set_conv_w({'BASE_ADDR': 0x0300_0000}, \"./data/cifar10_network_quan_param/cifar10_conv4_weight_quan.npy\")\n",
    "SU.su_set_conv_b({'BASE_ADDR': 0x0390_0000}, \"./data/cifar10_network_quan_param/cifar10_conv4_bias_quan.npy\")\n",
    "print(\"conv4 set done\")\n",
    "print(\"\\tTotal time: {:.2f} sec\".format(time.time() - start))"
   ]
  },
  {
   "cell_type": "code",
   "execution_count": null,
   "metadata": {},
   "outputs": [],
   "source": [
    "print(\"conv5 parameter load\")\n",
    "start = time.time()\n",
    "SU.su_set_conv_w({'BASE_ADDR': 0x03A0_0000}, \"./data/cifar10_network_quan_param/cifar10_conv5_weight_quan.npy\")\n",
    "SU.su_set_conv_b({'BASE_ADDR': 0x03F0_0000}, \"./data/cifar10_network_quan_param/cifar10_conv5_bias_quan.npy\")\n",
    "print(\"conv5 set done\")\n",
    "print(\"\\tTotal time: {:.2f} sec\".format(time.time() - start))"
   ]
  },
  {
   "cell_type": "code",
   "execution_count": null,
   "metadata": {},
   "outputs": [],
   "source": [
    "print(\"conv6 parameter load\")\n",
    "start = time.time()\n",
    "SU.su_set_conv_w({'BASE_ADDR': 0x0400_0000}, \"./data/cifar10_network_quan_param/cifar10_conv6_weight_quan.npy\")\n",
    "SU.su_set_conv_b({'BASE_ADDR': 0x0490_0000}, \"./data/cifar10_network_quan_param/cifar10_conv6_bias_quan.npy\")\n",
    "print(\"conv6 set done\")\n",
    "print(\"\\tTotal time: {:.2f} sec\".format(time.time() - start))"
   ]
  },
  {
   "cell_type": "code",
   "execution_count": 4,
   "metadata": {},
   "outputs": [
    {
     "name": "stdout",
     "output_type": "stream",
     "text": [
      "fc1 parameter load\n",
      "fc1 set done\n",
      "\tTotal time: 77.74 sec\n"
     ]
    }
   ],
   "source": [
    "print(\"fc1 parameter load\")\n",
    "start = time.time()\n",
    "SU.su_set_fc_w({'BASE_ADDR': 0x0500_0000}, \"./data/cifar10_network_quan_param/cifar10_fc1_weight_quan.npy\")\n",
    "SU.su_set_fc_b({'BASE_ADDR': 0x0530_0000}, \"./data/cifar10_network_quan_param/cifar10_fc1_bias_quan.npy\")\n",
    "print(\"fc1 set done\")\n",
    "print(\"\\tTotal time: {:.2f} sec\".format(time.time() - start))"
   ]
  },
  {
   "cell_type": "code",
   "execution_count": 5,
   "metadata": {},
   "outputs": [
    {
     "name": "stdout",
     "output_type": "stream",
     "text": [
      "fc2 parameter load\n",
      "fc2 set done\n",
      "\tTotal time: 5.05 sec\n"
     ]
    }
   ],
   "source": [
    "print(\"fc2 parameter load\")\n",
    "start = time.time()\n",
    "SU.su_set_fc_w({'BASE_ADDR': 0x0540_0000}, \"./data/cifar10_network_quan_param/cifar10_fc2_weight_quan.npy\")\n",
    "SU.su_set_fc_b({'BASE_ADDR': 0x0550_0000}, \"./data/cifar10_network_quan_param/cifar10_fc2_bias_quan.npy\")\n",
    "print(\"fc2 set done\")\n",
    "print(\"\\tTotal time: {:.2f} sec\".format(time.time() - start))"
   ]
  },
  {
   "cell_type": "code",
   "execution_count": 6,
   "metadata": {},
   "outputs": [
    {
     "name": "stdout",
     "output_type": "stream",
     "text": [
      "fc3 parameter load\n",
      "fc3 set done\n",
      "\tTotal time: 0.19 sec\n"
     ]
    }
   ],
   "source": [
    "print(\"fc3 parameter load\")\n",
    "start = time.time()\n",
    "SU.su_set_fc_w({'BASE_ADDR': 0x0560_0000}, \"./data/cifar10_network_quan_param/cifar10_fc3_weight_quan.npy\")\n",
    "SU.su_set_fc_b({'BASE_ADDR': 0x0570_0000}, \"./data/cifar10_network_quan_param/cifar10_fc3_bias_quan.npy\")\n",
    "print(\"fc3 set done\")\n",
    "print(\"\\tTotal time: {:.2f} sec\".format(time.time() - start))"
   ]
  },
  {
   "cell_type": "markdown",
   "metadata": {},
   "source": [
    "## Inference"
   ]
  },
  {
   "cell_type": "code",
   "execution_count": null,
   "metadata": {},
   "outputs": [],
   "source": [
    "SU.save_file(\"./data/new_cifar10_random_data/input_2s.txt\", 0x0000_0000)"
   ]
  },
  {
   "cell_type": "code",
   "execution_count": null,
   "metadata": {},
   "outputs": [],
   "source": [
    "###################################################################\n",
    "#        Convolution 1 + ReLU\n",
    "###################################################################\n",
    "# Convolution\n",
    "# - in:       (n, 3, 32, 32)\n",
    "# - out:     (n, 32, 32, 32)\n",
    "# - weight:    (32, 3, 3, 3)\n",
    "# - bias:               (32)\n",
    "# ReLU\n",
    "# - in:      (n. 32. 32. 32)\n",
    "# - out:     (n. 32. 32. 32)\n",
    "###################################################################\n",
    "I = {'IN_CH': 3, 'OUT_CH': 32, 'FLEN': 32}\n",
    "F = {'BASE_ADDR': 0x0000_0000, 'STRIDE_SIZE': 3*32*32, 'HSIZE': 3*32*32, 'VSIZE': 1}\n",
    "W = {'BASE_ADDR': 0x0200_0000, 'STRIDE_SIZE': 3*32*9, 'HSIZE': 3*32*9, 'VSIZE': 1}\n",
    "B = {'BASE_ADDR': 0x0210_0000, 'STRIDE_SIZE': 32, 'HSIZE': 32, 'VSIZE': 1}\n",
    "R = {'BASE_ADDR': 0x0600_0000, 'STRIDE_SIZE': 32*32*32, 'HSIZE': 32*32*32, 'VSIZE': 1}\n",
    "SU.su_conv_control(I, F, W, B, R, VDMA1_BASE_ADDR, CONV_BASE_ADDR)"
   ]
  },
  {
   "cell_type": "code",
   "execution_count": null,
   "metadata": {},
   "outputs": [],
   "source": [
    "SU.check_result(\"./data/new_cifar10_random_data/conv1_relu_out_2s.txt\", 0x0600_0000)"
   ]
  },
  {
   "cell_type": "code",
   "execution_count": null,
   "metadata": {},
   "outputs": [],
   "source": [
    "#SU.save_file(\"./data/new_cifar10_random_data/conv1_relu_out_2s.txt\", 0x0600_0000)"
   ]
  },
  {
   "cell_type": "code",
   "execution_count": null,
   "metadata": {},
   "outputs": [],
   "source": [
    "###################################################################\n",
    "#        Max Pool 1\n",
    "###################################################################\n",
    "# Max Pooling\n",
    "# - in:      (n. 32. 32. 32)\n",
    "# - out:     (n, 32, 16, 16)\n",
    "###################################################################\n",
    "I = {'IN_CH': 32, 'FLEN': 32}\n",
    "F = {'BASE_ADDR': 0x0600_0000, 'STRIDE_SIZE': 32*32*32, 'HSIZE': 32*32*32, 'VSIZE': 1}\n",
    "R = {'BASE_ADDR': 0x0610_0000, 'STRIDE_SIZE': 32*16*16, 'HSIZE': 32*16*16, 'VSIZE': 1}\n",
    "SU.su_pool_control(I, F, R, VDMA2_BASE_ADDR, POOL_BASE_ADDR)"
   ]
  },
  {
   "cell_type": "code",
   "execution_count": null,
   "metadata": {},
   "outputs": [],
   "source": [
    "SU.check_result(\"./data/new_cifar10_random_data/pool1_out_2s.txt\", 0x0610_0000)"
   ]
  },
  {
   "cell_type": "code",
   "execution_count": null,
   "metadata": {},
   "outputs": [],
   "source": [
    "#SU.save_file(\"./data/new_cifar10_random_data/pool1_out_2s.txt\", 0x0610_0000)"
   ]
  },
  {
   "cell_type": "code",
   "execution_count": null,
   "metadata": {},
   "outputs": [],
   "source": [
    "###################################################################\n",
    "#        Convolution 2 + ReLU\n",
    "###################################################################\n",
    "# Convolution\n",
    "# - in:       (n, 32, 16, 16)\n",
    "# - out:      (n, 64, 16, 16)\n",
    "# - weight:    (64, 32, 3, 3)\n",
    "# - bias:                (64)\n",
    "# ReLU\n",
    "# - in:       (n. 64. 16. 16)\n",
    "# - out:      (n. 64. 16. 16)\n",
    "###################################################################\n",
    "I = {'IN_CH': 32, 'OUT_CH': 64, 'FLEN': 16}\n",
    "F = {'BASE_ADDR': 0x0610_0000, 'STRIDE_SIZE': 32*16*16, 'HSIZE': 32*16*16, 'VSIZE': 1}\n",
    "W = {'BASE_ADDR': 0x0220_0000, 'STRIDE_SIZE': 32*64*9, 'HSIZE': 32*64*9, 'VSIZE': 1}\n",
    "B = {'BASE_ADDR': 0x0270_0000, 'STRIDE_SIZE': 64, 'HSIZE': 64, 'VSIZE': 1}\n",
    "R = {'BASE_ADDR': 0x0620_0000, 'STRIDE_SIZE': 64*16*16, 'HSIZE': 64*16*16, 'VSIZE': 1}\n",
    "SU.su_conv_control(I, F, W, B, R, VDMA1_BASE_ADDR, CONV_BASE_ADDR)"
   ]
  },
  {
   "cell_type": "code",
   "execution_count": null,
   "metadata": {},
   "outputs": [],
   "source": [
    "SU.check_result(\"./data/new_cifar10_random_data/conv2_relu_out_2s.txt\", 0x0620_0000)"
   ]
  },
  {
   "cell_type": "code",
   "execution_count": null,
   "metadata": {},
   "outputs": [],
   "source": [
    "#SU.save_file(\"./data/new_cifar10_random_data/conv2_relu_out_2s.txt\", 0x0620_0000)"
   ]
  },
  {
   "cell_type": "code",
   "execution_count": null,
   "metadata": {},
   "outputs": [],
   "source": [
    "###################################################################\n",
    "#        Max Pool 2\n",
    "###################################################################\n",
    "# Max Pooling\n",
    "# - in:      (n. 64. 16. 16)\n",
    "# - out:       (n, 64, 8, 8)\n",
    "###################################################################\n",
    "I = {'IN_CH': 64, 'FLEN': 16}\n",
    "F = {'BASE_ADDR': 0x0620_0000, 'STRIDE_SIZE': 64*16*16, 'HSIZE': 64*16*16, 'VSIZE': 1}\n",
    "R = {'BASE_ADDR': 0x0630_0000, 'STRIDE_SIZE': 64*8*8, 'HSIZE': 64*8*8, 'VSIZE': 1}\n",
    "SU.su_pool_control(I, F, R, VDMA2_BASE_ADDR, POOL_BASE_ADDR)"
   ]
  },
  {
   "cell_type": "code",
   "execution_count": null,
   "metadata": {},
   "outputs": [],
   "source": [
    "SU.check_result(\"./data/new_cifar10_random_data/pool2_out_2s.txt\", 0x0630_0000)"
   ]
  },
  {
   "cell_type": "code",
   "execution_count": null,
   "metadata": {},
   "outputs": [],
   "source": [
    "#SU.save_file(\"./data/new_cifar10_random_data/pool2_out_2s.txt\", 0x0630_0000)"
   ]
  },
  {
   "cell_type": "code",
   "execution_count": null,
   "metadata": {},
   "outputs": [],
   "source": [
    "###################################################################\n",
    "#        Convolution 3 + ReLU\n",
    "###################################################################\n",
    "# Convolution\n",
    "# - in:        (n, 64, 8, 8)\n",
    "# - out:      (n, 128, 8, 8)\n",
    "# - weight:  (128, 64, 3, 3)\n",
    "# - bias:              (128)\n",
    "# ReLU\n",
    "# - in:       (n. 128. 8. 8)\n",
    "# - out:      (n. 128. 8. 8)\n",
    "###################################################################\n",
    "I = {'IN_CH': 64, 'OUT_CH': 128, 'FLEN': 8}\n",
    "F = {'BASE_ADDR': 0x0630_0000, 'STRIDE_SIZE': 64*8*8, 'HSIZE': 64*8*8, 'VSIZE': 1}\n",
    "W = {'BASE_ADDR': 0x0280_0000, 'STRIDE_SIZE': int(64*128*9/2), 'HSIZE': int(64*128*9/2), 'VSIZE': 2}\n",
    "B = {'BASE_ADDR': 0x02C0_0000, 'STRIDE_SIZE': 128, 'HSIZE': 128, 'VSIZE': 1}\n",
    "R = {'BASE_ADDR': 0x0640_0000, 'STRIDE_SIZE': 128*8*8, 'HSIZE': 128*8*8, 'VSIZE': 1}\n",
    "SU.su_conv_control(I, F, W, B, R, VDMA1_BASE_ADDR, CONV_BASE_ADDR)"
   ]
  },
  {
   "cell_type": "code",
   "execution_count": null,
   "metadata": {},
   "outputs": [],
   "source": [
    "SU.check_result(\"./data/new_cifar10_random_data/conv3_relu_out_2s.txt\", 0x0640_0000)"
   ]
  },
  {
   "cell_type": "code",
   "execution_count": null,
   "metadata": {},
   "outputs": [],
   "source": [
    "#SU.save_file(\"./data/new_cifar10_random_data/conv3_relu_out_2s.txt\", 0x0640_0000)"
   ]
  },
  {
   "cell_type": "code",
   "execution_count": null,
   "metadata": {},
   "outputs": [],
   "source": [
    "###################################################################\n",
    "#        Convolution 4 + ReLU\n",
    "###################################################################\n",
    "# Convolution\n",
    "# - in:       (n, 128, 8, 8)\n",
    "# - out:      (n, 128, 8, 8)\n",
    "# - weight: (128, 128, 3, 3)\n",
    "# - bias:              (128)\n",
    "# ReLU\n",
    "# - in:       (n. 128. 8. 8)\n",
    "# - out:      (n. 128. 8. 8)\n",
    "###################################################################\n",
    "I = {'IN_CH': 128, 'OUT_CH': 128, 'FLEN': 8}\n",
    "F = {'BASE_ADDR': 0x0640_0000, 'STRIDE_SIZE': 128*8*8, 'HSIZE': 128*8*8, 'VSIZE': 1}\n",
    "W = {'BASE_ADDR': 0x0300_0000, 'STRIDE_SIZE': int(128*128*9/4), 'HSIZE': int(128*128*9/4), 'VSIZE': 4}\n",
    "B = {'BASE_ADDR': 0x0390_0000, 'STRIDE_SIZE': 128, 'HSIZE': 128, 'VSIZE': 1}\n",
    "R = {'BASE_ADDR': 0x0650_0000, 'STRIDE_SIZE': 128*8*8, 'HSIZE': 128*8*8, 'VSIZE': 1}\n",
    "SU.su_conv_control(I, F, W, B, R, VDMA1_BASE_ADDR, CONV_BASE_ADDR)"
   ]
  },
  {
   "cell_type": "code",
   "execution_count": null,
   "metadata": {},
   "outputs": [],
   "source": [
    "SU.check_result(\"./data/new_cifar10_random_data/conv4_relu_out_2s.txt\", 0x0650_0000)"
   ]
  },
  {
   "cell_type": "code",
   "execution_count": null,
   "metadata": {},
   "outputs": [],
   "source": [
    "#SU.save_file(\"./data/new_cifar10_random_data/conv4_relu_out_2s.txt\", 0x0650_0000)"
   ]
  },
  {
   "cell_type": "code",
   "execution_count": null,
   "metadata": {},
   "outputs": [],
   "source": [
    "###################################################################\n",
    "#        Max Pool 3\n",
    "###################################################################\n",
    "# Max Pooling\n",
    "# - in:      (n. 128. 8. 8)\n",
    "# - out:     (n, 128, 4, 4)\n",
    "###################################################################\n",
    "I = {'IN_CH': 128, 'FLEN': 8}\n",
    "F = {'BASE_ADDR': 0x0650_0000, 'STRIDE_SIZE': 128*8*8, 'HSIZE': 128*8*8, 'VSIZE': 1}\n",
    "R = {'BASE_ADDR': 0x0660_0000, 'STRIDE_SIZE': 128*4*4, 'HSIZE': 128*4*4, 'VSIZE': 1}\n",
    "SU.su_pool_control(I, F, R, VDMA2_BASE_ADDR, POOL_BASE_ADDR)"
   ]
  },
  {
   "cell_type": "code",
   "execution_count": null,
   "metadata": {},
   "outputs": [],
   "source": [
    "SU.check_result(\"./data/new_cifar10_random_data/pool3_out_2s.txt\", 0x0660_0000)"
   ]
  },
  {
   "cell_type": "code",
   "execution_count": null,
   "metadata": {},
   "outputs": [],
   "source": [
    "#SU.save_file(\"./data/new_cifar10_random_data/pool3_out_2s.txt\", 0x0660_0000)"
   ]
  },
  {
   "cell_type": "code",
   "execution_count": null,
   "metadata": {},
   "outputs": [],
   "source": [
    "###################################################################\n",
    "#        Convolution 5+ ReLU\n",
    "###################################################################\n",
    "# Convolution\n",
    "# - in:       (n, 128, 4, 4)\n",
    "# - out:      (n, 256, 4, 4)\n",
    "# - weight: (256, 128, 3, 3)\n",
    "# - bias:              (256)\n",
    "# ReLU\n",
    "# - in:       (n. 256. 4. 4)\n",
    "# - out:      (n. 256. 4. 4)\n",
    "###################################################################\n",
    "I = {'IN_CH': 128, 'OUT_CH': 256, 'FLEN': 4}\n",
    "F = {'BASE_ADDR': 0x0660_0000, 'STRIDE_SIZE': 128*4*4, 'HSIZE': 128*4*4, 'VSIZE': 1}\n",
    "W = {'BASE_ADDR': 0x03A0_0000, 'STRIDE_SIZE': int(128*256*9/8), 'HSIZE': int(128*256*9/8), 'VSIZE': 8}\n",
    "B = {'BASE_ADDR': 0x03F0_0000, 'STRIDE_SIZE': 256, 'HSIZE': 256, 'VSIZE': 1}\n",
    "R = {'BASE_ADDR': 0x0670_0000, 'STRIDE_SIZE': 256*4*4, 'HSIZE': 256*4*4, 'VSIZE': 1}\n",
    "SU.su_conv_control(I, F, W, B, R, VDMA1_BASE_ADDR, CONV_BASE_ADDR)"
   ]
  },
  {
   "cell_type": "code",
   "execution_count": null,
   "metadata": {},
   "outputs": [],
   "source": [
    "SU.check_result(\"./data/new_cifar10_random_data/conv5_relu_out_2s.txt\", 0x0670_0000)"
   ]
  },
  {
   "cell_type": "code",
   "execution_count": null,
   "metadata": {},
   "outputs": [],
   "source": [
    "#SU.save_file(\"./data/new_cifar10_random_data/conv5_relu_out_2s.txt\", 0x0670_0000)"
   ]
  },
  {
   "cell_type": "code",
   "execution_count": null,
   "metadata": {},
   "outputs": [],
   "source": [
    "###################################################################\n",
    "#        Convolution 6 + ReLU\n",
    "###################################################################\n",
    "# Convolution\n",
    "# - in:        (n, 256, 4, 4)\n",
    "# - out:       (n, 256, 4, 4)\n",
    "# - weight:  (256, 256, 3, 3)\n",
    "# - bias:               (256)\n",
    "# ReLU\n",
    "# - in:        (n. 256. 4. 4)\n",
    "# - out:       (n. 256. 4. 4)\n",
    "###################################################################\n",
    "I = {'IN_CH': 256, 'OUT_CH': 256, 'FLEN': 4}\n",
    "F = {'BASE_ADDR': 0x0670_0000, 'STRIDE_SIZE': 256*4*4, 'HSIZE': 256*4*4, 'VSIZE': 1}\n",
    "W = {'BASE_ADDR': 0x0400_0000, 'STRIDE_SIZE': int(256*256*9/16), 'HSIZE': int(256*256*9/16), 'VSIZE': 16}\n",
    "B = {'BASE_ADDR': 0x0490_0000, 'STRIDE_SIZE': 256, 'HSIZE': 256, 'VSIZE': 1}\n",
    "R = {'BASE_ADDR': 0x0680_0000, 'STRIDE_SIZE': 256*4*4, 'HSIZE': 256*4*4, 'VSIZE': 1}\n",
    "SU.su_conv_control(I, F, W, B, R, VDMA1_BASE_ADDR, CONV_BASE_ADDR)"
   ]
  },
  {
   "cell_type": "code",
   "execution_count": null,
   "metadata": {},
   "outputs": [],
   "source": [
    "SU.check_result(\"./data/new_cifar10_random_data/conv6_relu_out_2s.txt\", 0x0680_0000)"
   ]
  },
  {
   "cell_type": "code",
   "execution_count": null,
   "metadata": {},
   "outputs": [],
   "source": [
    "#SU.save_file(\"./data/new_cifar10_random_data/conv6_relu_out_2s.txt\", 0x0680_0000)"
   ]
  },
  {
   "cell_type": "code",
   "execution_count": null,
   "metadata": {},
   "outputs": [],
   "source": [
    "###################################################################\n",
    "#        Max Pool 4\n",
    "###################################################################\n",
    "# Max Pooling\n",
    "# - in:      (n. 256. 4. 4)\n",
    "# - out:     (n, 256, 2, 2)\n",
    "###################################################################\n",
    "I = {'IN_CH': 256, 'FLEN': 4}\n",
    "F = {'BASE_ADDR': 0x0680_0000, 'STRIDE_SIZE': 256*4*4, 'HSIZE': 256*4*4, 'VSIZE': 1}\n",
    "R = {'BASE_ADDR': 0x0690_0000, 'STRIDE_SIZE': 256*2*2, 'HSIZE': 256*2*2, 'VSIZE': 1}\n",
    "SU.su_pool_control(I, F, R, VDMA2_BASE_ADDR, POOL_BASE_ADDR)"
   ]
  },
  {
   "cell_type": "code",
   "execution_count": null,
   "metadata": {},
   "outputs": [],
   "source": [
    "SU.check_result(\"./data/new_cifar10_random_data/pool4_out_2s.txt\", 0x0690_0000)"
   ]
  },
  {
   "cell_type": "code",
   "execution_count": 6,
   "metadata": {},
   "outputs": [],
   "source": [
    "SU.save_file(\"./data/new_cifar10_random_data/pool4_out_2s.txt\", 0x0690_0000)"
   ]
  },
  {
   "cell_type": "code",
   "execution_count": 7,
   "metadata": {},
   "outputs": [
    {
     "name": "stdout",
     "output_type": "stream",
     "text": [
      "[0, 0, 0, 0]\n",
      "3\n",
      "[0, 0, 0, 0]\n",
      "4\n",
      "F_writedone!!\n",
      "[0, 0, 0, 0]\n",
      "5\n",
      "B_write_done!!!\n",
      "waiting W_writedone\n",
      "W_writedone!!!\n",
      "[0, 0, 0, 1]\n",
      "[0, 0, 0, 1]\n",
      "[0, 1, 255, 255]\n",
      "[0, 0, 0, 0]\n",
      "[0, 0, 0, 0]\n",
      "[0, 0, 0, 255]\n",
      "[0, 0, 1, 0]\n",
      "\n",
      "fc_done!!!\n",
      "FCclk elapsed: 1999502\n"
     ]
    },
    {
     "data": {
      "text/plain": [
       "1"
      ]
     },
     "execution_count": 7,
     "metadata": {},
     "output_type": "execute_result"
    }
   ],
   "source": [
    "###################################################################\n",
    "#        Fully-Connected 1 + ReLU\n",
    "###################################################################\n",
    "# Fully-Connected\n",
    "# - in:             (1024,)\n",
    "# - out:             (256,)\n",
    "# - weight:     (256, 1024)\n",
    "# - bias:            (256,)\n",
    "# ReLU\n",
    "# - in:              (256,)\n",
    "# - out:             (256,)\n",
    "###################################################################\n",
    "F = {'BASE_ADDR': 0x0690_0000, 'STRIDE_SIZE': 1024, 'HSIZE': 1024, 'VSIZE': 1}\n",
    "W = {'BASE_ADDR': 0x0500_0000, 'STRIDE_SIZE': int(1024*256/8), 'HSIZE': int(1024*256/8), 'VSIZE': 8}\n",
    "B = {'BASE_ADDR': 0x0530_0000, 'STRIDE_SIZE': 256, 'HSIZE': 256, 'VSIZE': 1}\n",
    "R = {'BASE_ADDR': 0x06A0_0000, 'STRIDE_SIZE': 256, 'HSIZE': 256, 'VSIZE': 1}\n",
    "SU.su_fc_control(F, W, B, R, VDMA0_BASE_ADDR, FC_BASE_ADDR)"
   ]
  },
  {
   "cell_type": "code",
   "execution_count": 8,
   "metadata": {},
   "outputs": [
    {
     "name": "stdout",
     "output_type": "stream",
     "text": [
      "All Results are Correct\n"
     ]
    }
   ],
   "source": [
    "SU.check_result(\"./data/new_cifar10_random_data/fc1_relu_out_2s.txt\", 0x06A0_0000)"
   ]
  },
  {
   "cell_type": "code",
   "execution_count": 5,
   "metadata": {},
   "outputs": [],
   "source": [
    "SU.save_file(\"./data/new_cifar10_random_data/fc1_relu_out_2s.txt\", 0x06A0_0000)"
   ]
  },
  {
   "cell_type": "code",
   "execution_count": 9,
   "metadata": {
    "scrolled": true
   },
   "outputs": [
    {
     "name": "stdout",
     "output_type": "stream",
     "text": [
      "[0, 0, 0, 0]\n",
      "3\n",
      "[0, 0, 0, 0]\n",
      "4\n",
      "F_writedone!!\n",
      "[0, 0, 0, 0]\n",
      "5\n",
      "B_write_done!!!\n",
      "waiting W_writedone\n",
      "W_writedone!!!\n",
      "[0, 0, 0, 1]\n",
      "[0, 0, 0, 1]\n",
      "[0, 1, 255, 255]\n",
      "[0, 0, 0, 0]\n",
      "[0, 0, 0, 0]\n",
      "[0, 0, 0, 63]\n",
      "[0, 0, 0, 64]\n",
      "\n",
      "fc_done!!!\n",
      "FCclk elapsed: 1999759\n"
     ]
    },
    {
     "data": {
      "text/plain": [
       "1"
      ]
     },
     "execution_count": 9,
     "metadata": {},
     "output_type": "execute_result"
    }
   ],
   "source": [
    "###################################################################\n",
    "#        Fully-Connected 2 + ReLU\n",
    "###################################################################\n",
    "# Fully-Connected\n",
    "# - in:             (256,)\n",
    "# - out:             (64,)\n",
    "# - weight:      (64, 256)\n",
    "# - bias:            (64,)\n",
    "# ReLU\n",
    "# - in:              (64,)\n",
    "# - out:             (64,)\n",
    "###################################################################\n",
    "F = {'BASE_ADDR': 0x06A0_0000, 'STRIDE_SIZE': 256, 'HSIZE': 256, 'VSIZE': 1}\n",
    "W = {'BASE_ADDR': 0x0540_0000, 'STRIDE_SIZE': 256*64, 'HSIZE': 256*64, 'VSIZE': 1}\n",
    "B = {'BASE_ADDR': 0x0550_0000, 'STRIDE_SIZE': 64, 'HSIZE': 64, 'VSIZE': 1}\n",
    "R = {'BASE_ADDR': 0x06B0_0000, 'STRIDE_SIZE': 64, 'HSIZE': 64, 'VSIZE': 1}\n",
    "SU.su_fc_control(F, W, B, R, VDMA0_BASE_ADDR, FC_BASE_ADDR)"
   ]
  },
  {
   "cell_type": "code",
   "execution_count": 10,
   "metadata": {},
   "outputs": [
    {
     "name": "stdout",
     "output_type": "stream",
     "text": [
      "!! ERROR !! : 1 Count is  1\n",
      "Want :  0x3e1f2e00\n",
      "Result :  ['0x0', '0x1b', '0x17', '0xf']\n",
      "!! ERROR !! , Count is  1\n",
      "Want :  0x3a464200\n",
      "Result :  ['0x0', '0x0', '0x7', '0xc']\n",
      "!! ERROR !! , Count is  2\n",
      "Want :  0x2a043543\n",
      "Result :  ['0x23', '0xc', '0x1a', '0x0']\n",
      "!! ERROR !! , Count is  3\n",
      "Want :  0x500\n",
      "Result :  ['0x9', '0x2', '0x0', '0x0']\n",
      "!! ERROR !! , Count is  4\n",
      "Want :  0x214b3335\n",
      "Result :  ['0x0', '0x1', '0x3', '0x1']\n",
      "!! ERROR !! , Count is  5\n",
      "Want :  0x5d7f\n",
      "Result :  ['0x4', '0x17', '0x18', '0x10']\n",
      "!! ERROR !! , Count is  6\n",
      "Want :  0x26233800\n",
      "Result :  ['0xb', '0x0', '0x1f', '0xf']\n",
      "!! ERROR !! , Count is  7\n",
      "Want :  0xc007619\n",
      "Result :  ['0x11', '0x27', '0x15', '0x10']\n",
      "!! ERROR !! , Count is  8\n",
      "Want :  0xd00121e\n",
      "Result :  ['0x0', '0x15', '0x7', '0x15']\n",
      "!! ERROR !! , Count is  9\n",
      "Want :  0x27002d\n",
      "Result :  ['0x15', '0xd', '0x1', '0x1c']\n",
      "!! ERROR !! , Count is  10\n",
      "Want :  0x2a113250\n",
      "Result :  ['0x1b', '0x24', '0x1b', '0x1']\n",
      "!! ERROR !! , Count is  11\n",
      "Want :  0x5a7a361c\n",
      "Result :  ['0x9', '0x0', '0x10', '0xf']\n",
      "!! ERROR !! , Count is  12\n",
      "Want :  0x44000413\n",
      "Result :  ['0xf', '0x8', '0x11', '0xb']\n",
      "!! ERROR !! , Count is  13\n",
      "Want :  0x3300273e\n",
      "Result :  ['0x4', '0x0', '0x13', '0x11']\n",
      "!! ERROR !! , Count is  14\n",
      "Want :  0x3b2e0e46\n",
      "Result :  ['0x9', '0x0', '0x0', '0x20']\n",
      "!! ERROR !! , Count is  15\n",
      "Want :  0x352b\n",
      "Result :  ['0x1', '0xd', '0x1', '0x0']\n",
      "Error : 16\n"
     ]
    }
   ],
   "source": [
    "SU.check_result(\"./data/new_cifar10_random_data/fc2_relu_out_2s.txt\", 0x06B0_0000)"
   ]
  },
  {
   "cell_type": "code",
   "execution_count": null,
   "metadata": {},
   "outputs": [],
   "source": [
    "SU.save_file(\"./data/new_cifar10_random_data/fc2_relu_out_2s.txt\", 0x06B0_0000)"
   ]
  },
  {
   "cell_type": "code",
   "execution_count": null,
   "metadata": {},
   "outputs": [],
   "source": [
    "###################################################################\n",
    "#        Fully-Connected 3 + ReLU\n",
    "###################################################################\n",
    "# Fully-Connected\n",
    "# - in:               (64,)\n",
    "# - out:              (10,)\n",
    "# - weight:        (10, 64)\n",
    "# - bias:             (10,)\n",
    "# ReLU\n",
    "# - in:               (10,)\n",
    "# - out:              (10,)\n",
    "###################################################################\n",
    "F = {'BASE_ADDR': 0x06B0_0000, 'STRIDE_SIZE': 64, 'HSIZE': 64, 'VSIZE': 1}\n",
    "W = {'BASE_ADDR': 0x0560_0000, 'STRIDE_SIZE': 640, 'HSIZE': 640, 'VSIZE': 1}\n",
    "B = {'BASE_ADDR': 0x0570_0000, 'STRIDE_SIZE': 10, 'HSIZE': 10, 'VSIZE': 1}\n",
    "R = {'BASE_ADDR': 0x06C0_0000, 'STRIDE_SIZE': 10, 'HSIZE': 10, 'VSIZE': 1}\n",
    "SU.su_fc_control(F, W, B, R, VDMA0_BASE_ADDR, FC_BASE_ADDR)"
   ]
  },
  {
   "cell_type": "code",
   "execution_count": null,
   "metadata": {},
   "outputs": [],
   "source": [
    "SU.check_result(\"./data/new_cifar10_random_data/fc3_out_2s.txt\", 0x06C0_0000, mode=\"fc3_out_2s\")"
   ]
  },
  {
   "cell_type": "code",
   "execution_count": null,
   "metadata": {},
   "outputs": [],
   "source": [
    "##############################################################################################\n",
    "# Below code can be revised according to your apb register setting\n",
    "##############################################################################################\n",
    "# Read label index from apb register (our design output the index to that address)\n",
    "\n",
    "# We assign FC_BASE_ADDR + 0x20 apb register to return max-value index\n",
    "label = SU.su_read_data(FC_BASE_ADDR + 0x10)\n",
    "label = int.from_bytes(label, 'big', signed=True)\n",
    "# Predicted (computated) label\n",
    "print(label-1)\n",
    "if(label-1 == 8):\n",
    "    print(\"Max index is Correct\")\n",
    "else:\n",
    "    print(\"Max index is Wrong\")"
   ]
  },
  {
   "cell_type": "code",
   "execution_count": null,
   "metadata": {},
   "outputs": [],
   "source": [
    "#added by Jsw\n",
    "dataa = SU.su_read_data(FC_BASE_ADDR + 0xc)\n",
    "print('fc_done')\n",
    "print(dataa)\n",
    "dataa = SU.su_read_data(FC_BASE_ADDR +0x14)\n",
    "print('F_writedone')\n",
    "print(dataa)\n",
    "dataa = SU.su_read_data(FC_BASE_ADDR + 0x100000)\n",
    "print('r_c_s_states')\n",
    "print(dataa)\n",
    "dataa = SU.su_read_data(FC_BASE_ADDR + 0x200000)\n",
    "print('bram_addr')\n",
    "print(dataa)\n"
   ]
  },
  {
   "cell_type": "code",
   "execution_count": null,
   "metadata": {},
   "outputs": [],
   "source": [
    "#added by jsw\n",
    "for i in range(256):\n",
    "    dataa = SU.su_read_data(0x0690_0000 + 0x4*i) #fc1 feature\n",
    "    print(str(i) + str(dataa))"
   ]
  },
  {
   "cell_type": "code",
   "execution_count": null,
   "metadata": {},
   "outputs": [],
   "source": [
    "#added by jsw\n",
    "for i in range(256*64):\n",
    "    dataa = SU.su_read_data(0x0500_0000 + 0x4*i) #fc1 weight\n",
    "    print(str(i) + str(dataa))"
   ]
  },
  {
   "cell_type": "code",
   "execution_count": null,
   "metadata": {},
   "outputs": [],
   "source": [
    "#added by jsw\n",
    "for i in range(64):\n",
    "    dataa = SU.su_read_data(0x0530_0000 + 0x4*i) #fc1 bias\n",
    "    print(dataa)"
   ]
  },
  {
   "cell_type": "code",
   "execution_count": 13,
   "metadata": {},
   "outputs": [
    {
     "name": "stdout",
     "output_type": "stream",
     "text": [
      "0[0, 27, 23, 15]\n",
      "1[0, 0, 7, 12]\n",
      "2[35, 12, 26, 0]\n",
      "3[9, 2, 0, 0]\n",
      "4[0, 1, 3, 1]\n",
      "5[4, 23, 24, 16]\n",
      "6[11, 0, 31, 15]\n",
      "7[17, 39, 21, 16]\n",
      "8[0, 21, 7, 21]\n",
      "9[21, 13, 1, 28]\n",
      "10[27, 36, 27, 1]\n",
      "11[9, 0, 16, 15]\n",
      "12[15, 8, 17, 11]\n",
      "13[4, 0, 19, 17]\n",
      "14[9, 0, 0, 32]\n",
      "15[1, 13, 1, 0]\n",
      "16[13, 0, 10, 24]\n",
      "17[24, 14, 0, 9]\n",
      "18[14, 32, 19, 10]\n",
      "19[10, 17, 0, 25]\n",
      "20[0, 37, 0, 6]\n",
      "21[4, 0, 1, 0]\n",
      "22[0, 19, 0, 39]\n",
      "23[9, 9, 0, 0]\n",
      "24[18, 0, 8, 13]\n",
      "25[32, 42, 14, 0]\n",
      "26[39, 23, 15, 0]\n",
      "27[6, 9, 34, 2]\n",
      "28[15, 0, 4, 0]\n",
      "29[0, 28, 26, 12]\n",
      "30[0, 22, 14, 19]\n",
      "31[24, 10, 0, 14]\n",
      "32[0, 16, 21, 15]\n",
      "33[26, 11, 4, 10]\n",
      "34[2, 12, 0, 0]\n",
      "35[0, 0, 3, 10]\n",
      "36[10, 2, 14, 13]\n",
      "37[18, 13, 3, 0]\n",
      "38[0, 14, 6, 8]\n",
      "39[4, 25, 4, 0]\n",
      "40[0, 23, 0, 22]\n",
      "41[46, 23, 17, 0]\n",
      "42[3, 26, 12, 9]\n",
      "43[0, 14, 0, 0]\n",
      "44[37, 9, 16, 0]\n",
      "45[1, 0, 29, 23]\n",
      "46[0, 46, 14, 0]\n",
      "47[22, 10, 23, 0]\n",
      "48[0, 0, 32, 11]\n",
      "49[0, 18, 0, 0]\n",
      "50[4, 0, 16, 27]\n",
      "51[4, 0, 0, 14]\n",
      "52[14, 0, 45, 6]\n",
      "53[9, 8, 3, 17]\n",
      "54[2, 0, 13, 0]\n",
      "55[26, 21, 21, 9]\n",
      "56[10, 50, 7, 0]\n",
      "57[0, 17, 16, 0]\n",
      "58[6, 0, 30, 15]\n",
      "59[3, 22, 14, 0]\n",
      "60[0, 0, 0, 0]\n",
      "61[0, 2, 18, 0]\n",
      "62[29, 8, 0, 7]\n",
      "63[34, 9, 16, 12]\n"
     ]
    }
   ],
   "source": [
    "#added by jsw\n",
    "for i in range(64):\n",
    "    dataa = SU.su_read_data(0x06A0_0000 + 0x4*i) #fc1 result / fc2 feature\n",
    "    print(str(i) + str(dataa))"
   ]
  },
  {
   "cell_type": "code",
   "execution_count": 12,
   "metadata": {},
   "outputs": [
    {
     "name": "stdout",
     "output_type": "stream",
     "text": [
      "[0, 253, 0, 0]\n",
      "[0, 0, 254, 253]\n",
      "[9, 1, 0, 1]\n",
      "[254, 1, 0, 0]\n",
      "[0, 252, 0, 1]\n"
     ]
    }
   ],
   "source": [
    "#added by jsw\n",
    "for i in range(5):\n",
    "    dataa = SU.su_read_data(0x0540_0000 + 0x4*i) #fc2 weight\n",
    "    print(dataa)"
   ]
  },
  {
   "cell_type": "code",
   "execution_count": 11,
   "metadata": {},
   "outputs": [
    {
     "name": "stdout",
     "output_type": "stream",
     "text": [
      "[0, 2, 13, 4]\n",
      "[0, 5, 2, 6]\n",
      "[0, 9, 0, 5]\n",
      "[0, 0, 0, 0]\n",
      "[5, 9, 9, 4]\n"
     ]
    }
   ],
   "source": [
    "#added by jsw\n",
    "for i in range(5):\n",
    "    dataa = SU.su_read_data(0x0550_0000 + 0x4*i) #fc2 bias\n",
    "    print(dataa)"
   ]
  },
  {
   "cell_type": "code",
   "execution_count": null,
   "metadata": {},
   "outputs": [],
   "source": [
    "#added by jsw\n",
    "for i in range(16):\n",
    "    dataa = SU.su_read_data(0x06B0_0000 + 0x4*i) #fc2 result / fc3 input\n",
    "    print(dataa)"
   ]
  },
  {
   "cell_type": "code",
   "execution_count": null,
   "metadata": {},
   "outputs": [],
   "source": [
    "#added by jsw\n",
    "for i in range(160):\n",
    "    dataa = SU.su_read_data(0x0560_0000 + 0x4*i) #fc3 weight\n",
    "    for j in range(4):\n",
    "        if(dataa[j] >127):\n",
    "            print(dataa[j]-128,end=' ')\n",
    "        else\n",
    "            print(dataa[j],end=' ')\n",
    "        if(j==3):\n",
    "            print('\\n')\n",
    "    if((i + 1 )%16==0):\n",
    "        print()"
   ]
  },
  {
   "cell_type": "code",
   "execution_count": null,
   "metadata": {},
   "outputs": [],
   "source": [
    "#added by jsw\n",
    "for i in range(5):\n",
    "    dataa = SU.su_read_data(0x0570_0000 + 0x4*i) #fc3 bias\n",
    "    print(dataa)"
   ]
  },
  {
   "cell_type": "code",
   "execution_count": null,
   "metadata": {},
   "outputs": [],
   "source": [
    "#added by jsw\n",
    "for i in range(5):\n",
    "    dataa = SU.su_read_data(0x06C0_0000 + 0x4*i) #fc3 result\n",
    "    print(dataa)"
   ]
  },
  {
   "cell_type": "code",
   "execution_count": null,
   "metadata": {
    "scrolled": true
   },
   "outputs": [],
   "source": [
    "import numpy as np\n",
    "from utils.bit_operation import *\n",
    "\n",
    "w_dataa = np.load(\"./data/cifar10_network_quan_param/cifar10_fc3_weight_quan.npy\")\n",
    "b_dataa = np.load(\"./data/cifar10_network_quan_param/cifar10_fc3_bias_quan.npy\")\n",
    "\n",
    "count = 0\n",
    "d_str = \"\"\n",
    "f = open(\"./data/test_bias.txt\", \"a\")\n",
    "for data_slice2 in b_dataa:\n",
    "    count += 1\n",
    "    bin_data = data_to_8bit_binary(data_slice2)\n",
    "    for i in range(8):\n",
    "        if(bin_data >= 2**(7-i)):\n",
    "            d_str = d_str + '1'\n",
    "            bin_data = bin_data - 2**(7-i)\n",
    "        else:\n",
    "            d_str = d_str + '0'\n",
    "    if count % 4 == 0:\n",
    "        f.write(d_str+'\\n')\n",
    "        d_str = \"\"\n",
    "f.close()\n"
   ]
  },
  {
   "cell_type": "code",
   "execution_count": null,
   "metadata": {},
   "outputs": [],
   "source": [
    "dataa = SU.su_read_data(FC_BASE_ADDR + 0x700)#test_data\n",
    "print(dataa)\n",
    "dataa = SU.su_read_data(FC_BASE_ADDR + 0x800)#test_data\n",
    "print(dataa)\n",
    "dataa = SU.su_read_data(FC_BASE_ADDR + 0x900)#test_data\n",
    "print(dataa)"
   ]
  },
  {
   "cell_type": "code",
   "execution_count": 11,
   "metadata": {},
   "outputs": [
    {
     "name": "stdout",
     "output_type": "stream",
     "text": [
      "[0, 0, 0, 0]\n",
      "[0, 0, 0, 0]\n",
      "[0, 1, 255, 255]\n",
      "[0, 0, 0, 0]\n",
      "[0, 0, 0, 0]\n",
      "[0, 0, 0, 63]\n",
      "[0, 0, 0, 64]\n"
     ]
    }
   ],
   "source": [
    "done = SU.su_read_data(FC_BASE_ADDR + 0xc)#fc_done\n",
    "print(done)\n",
    "dataa = SU.su_read_data(FC_BASE_ADDR + 0x100)#states 0 read cal send\n",
    "print(dataa)\n",
    "dataa = SU.su_read_data(FC_BASE_ADDR + 0x200)#bram_addr\n",
    "print(dataa)\n",
    "dataa = SU.su_read_data(FC_BASE_ADDR + 0x300)#fc_start\n",
    "print(dataa)\n",
    "dataa = SU.su_read_data(FC_BASE_ADDR + 0x400)#F_B_W_cal_done\n",
    "print(dataa)\n",
    "dataa = SU.su_read_data(FC_BASE_ADDR + 0x500)#input_size\n",
    "print(dataa)\n",
    "dataa = SU.su_read_data(FC_BASE_ADDR + 0x600)#output_size\n",
    "print(dataa)"
   ]
  }
 ],
 "metadata": {
  "kernelspec": {
   "display_name": "Python 3 (ipykernel)",
   "language": "python",
   "name": "python3"
  },
  "language_info": {
   "codemirror_mode": {
    "name": "ipython",
    "version": 3
   },
   "file_extension": ".py",
   "mimetype": "text/x-python",
   "name": "python",
   "nbconvert_exporter": "python",
   "pygments_lexer": "ipython3",
   "version": "3.11.5"
  }
 },
 "nbformat": 4,
 "nbformat_minor": 4
}
